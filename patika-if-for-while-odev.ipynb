{
 "cells": [
  {
   "cell_type": "markdown",
   "id": "e5ba8de6-44dc-48ba-822d-0069b1371db3",
   "metadata": {},
   "source": [
    "- Girilen sayının pozitif, negatif veya sıfır olduğunu yazan koşul"
   ]
  },
  {
   "cell_type": "code",
   "execution_count": 4,
   "id": "37d9e621-566e-4e36-b45d-a9a6ec90e404",
   "metadata": {
    "editable": true,
    "slideshow": {
     "slide_type": ""
    },
    "tags": []
   },
   "outputs": [
    {
     "name": "stdin",
     "output_type": "stream",
     "text": [
      "Bir sayı giriniz: -5\n"
     ]
    },
    {
     "name": "stdout",
     "output_type": "stream",
     "text": [
      "Girdiğiniz sayı negatiftir.\n"
     ]
    }
   ],
   "source": [
    "sayi = int(input(\"Bir sayı giriniz:\"))\n",
    "\n",
    "if sayi > 0:\n",
    "    print(\"Girdiğiniz sayı pozitiftir.\")\n",
    "elif sayi == 0:\n",
    "    print(\"Girdiğiniz sayı sıfırdır.\")\n",
    "else:\n",
    "    print(\"Girdiğiniz sayı negatiftir.\")"
   ]
  },
  {
   "cell_type": "markdown",
   "id": "a5eee714-7ce4-4a2a-95ef-4254da7f7e5a",
   "metadata": {},
   "source": [
    "-Girilen sayının tek mi çift mi olduğunu bulan koşul"
   ]
  },
  {
   "cell_type": "code",
   "execution_count": 9,
   "id": "eb9d5b8e-28f8-4b73-8ea9-4a93b6e5e493",
   "metadata": {},
   "outputs": [
    {
     "name": "stdin",
     "output_type": "stream",
     "text": [
      "Bir sayı giriniz: 5\n"
     ]
    },
    {
     "name": "stdout",
     "output_type": "stream",
     "text": [
      "Girdiğiniz sayı tek sayıdır.\n"
     ]
    }
   ],
   "source": [
    "sayi = int(input(\"Bir sayı giriniz:\"))\n",
    "\n",
    "if sayi % 2 == 0:\n",
    "    print(\"Girdiğiniz sayı çift sayıdır.\")\n",
    "else:\n",
    "    print(\"Girdiğiniz sayı tek sayıdır.\")"
   ]
  },
  {
   "cell_type": "markdown",
   "id": "a904b39a-31b6-4d38-b554-ef94f55e5014",
   "metadata": {},
   "source": [
    "-Girilen nota göre harf aralığını yazan koşul"
   ]
  },
  {
   "cell_type": "code",
   "execution_count": 19,
   "id": "43066cb0-27ab-4d58-93c8-d12663439f64",
   "metadata": {},
   "outputs": [
    {
     "name": "stdin",
     "output_type": "stream",
     "text": [
      "Notunuzu giriniz: 63\n"
     ]
    },
    {
     "name": "stdout",
     "output_type": "stream",
     "text": [
      "Harf notunuz CC'dir.\n"
     ]
    }
   ],
   "source": [
    "notunuz = int(input(\"Notunuzu giriniz:\"))\n",
    "\n",
    "if notunuz >= 90:\n",
    "    print(\"Harf notunuz AA'dır.\")\n",
    "elif notunuz <= 89 and notunuz >= 85:\n",
    "    print(\"Harf notunuz BA'dır.\")\n",
    "elif notunuz <= 84 and notunuz >= 80:\n",
    "    print(\"Harf notunuz BB'dir.\")\n",
    "elif notunuz <= 79 and notunuz >= 70:\n",
    "    print(\"Harf notunuz CB'dir.\")\n",
    "elif notunuz <= 69 and notunuz >= 60:\n",
    "    print(\"Harf notunuz CC'dir.\")\n",
    "elif notunuz <= 59 and notunuz >= 50:\n",
    "    print(\"Harf notunuz DC'dir.\")\n",
    "elif notunuz <= 49 and notunuz >= 45:\n",
    "    print(\"Harf notunuz DD'dir.\")\n",
    "elif notunuz <= 44:\n",
    "    print(\"Harf notunuz FF'dir.\")"
   ]
  },
  {
   "cell_type": "markdown",
   "id": "ed5f8715-1758-438e-b448-e7514d29ec9c",
   "metadata": {},
   "source": [
    "-Girilen ismin karakter sayısı 5den büyükse \"uzun bir isminiz var\", değilse ismini yazdıran koşul"
   ]
  },
  {
   "cell_type": "code",
   "execution_count": 26,
   "id": "b183737a-17ea-46e7-8252-e947cb4adfa2",
   "metadata": {},
   "outputs": [
    {
     "name": "stdin",
     "output_type": "stream",
     "text": [
      "İsminizi giriniz: eda\n"
     ]
    },
    {
     "name": "stdout",
     "output_type": "stream",
     "text": [
      "eda\n"
     ]
    }
   ],
   "source": [
    "isim = input(\"İsminizi giriniz:\")\n",
    "\n",
    "if len(isim) >= 5:\n",
    "    print(\"Uzun bir isminiz var.\")\n",
    "else:\n",
    "    print(isim)"
   ]
  },
  {
   "cell_type": "markdown",
   "id": "d69ec5ce-0916-4a32-a71f-18e4a763e2b4",
   "metadata": {},
   "source": [
    "-Girilen sayının asal olup olmadığını bulan döngü (for)"
   ]
  },
  {
   "cell_type": "code",
   "execution_count": 6,
   "id": "c99e1574-c0f3-41c3-b25e-45619d0987c9",
   "metadata": {},
   "outputs": [
    {
     "name": "stdin",
     "output_type": "stream",
     "text": [
      "Bir sayı girin:  7\n"
     ]
    },
    {
     "name": "stdout",
     "output_type": "stream",
     "text": [
      "Asal sayıdır.\n"
     ]
    }
   ],
   "source": [
    "sayi = int(input(\"Bir sayı girin: \"))\n",
    "\n",
    "if sayi <= 1:\n",
    "    print(\"Asal sayı değildir.\")\n",
    "else:\n",
    "    asal = True\n",
    "    for i in range(2, sayi):\n",
    "        if sayi % i == 0:\n",
    "            asal = False\n",
    "            break\n",
    "if asal:\n",
    "    print(\"Asal sayıdır.\")\n",
    "else:\n",
    "    print(\"Asal sayı değildir.\")"
   ]
  },
  {
   "cell_type": "markdown",
   "id": "7d683f47-17f7-4310-ae5d-28dc9d92b950",
   "metadata": {},
   "source": [
    "-Girilen sayının asal olup olmadığını bulan döngü (while)"
   ]
  },
  {
   "cell_type": "code",
   "execution_count": 19,
   "id": "3a61e5b4-76f6-4d0a-9227-0e8f0ac7786f",
   "metadata": {},
   "outputs": [
    {
     "name": "stdin",
     "output_type": "stream",
     "text": [
      "Bir sayı girin:  7\n"
     ]
    },
    {
     "name": "stdout",
     "output_type": "stream",
     "text": [
      "Asal sayıdır.\n"
     ]
    }
   ],
   "source": [
    "sayi = int(input(\"Bir sayı girin: \"))\n",
    "\n",
    "if sayi <= 1:\n",
    "    print(\"Asal sayı değildir.\")\n",
    "else:\n",
    "    i = 2\n",
    "    asal = True\n",
    "\n",
    "    while i < sayi:\n",
    "        if sayi % i == 0:\n",
    "            asal = False\n",
    "            break\n",
    "        i += 1\n",
    "    if asal:\n",
    "        print(\"Asal sayıdır.\")\n",
    "    else:\n",
    "        print(\"Asal sayı değildir.\")"
   ]
  },
  {
   "cell_type": "markdown",
   "id": "26c97d7f-19fb-4537-a663-6e6e5f4982eb",
   "metadata": {},
   "source": [
    "-notlar=[45,85,75,50] içinde 75 değerinin indisini yazdıran döngü"
   ]
  },
  {
   "cell_type": "code",
   "execution_count": 15,
   "id": "9721301b-b0f0-41bd-baf8-316e446e4114",
   "metadata": {},
   "outputs": [
    {
     "name": "stdout",
     "output_type": "stream",
     "text": [
      "75 değeri 2 indeksindedir.\n"
     ]
    }
   ],
   "source": [
    "notlar = [45, 85, 75, 50]\n",
    "\n",
    "for i in range(len(notlar)):\n",
    "    if notlar[i] == 75:\n",
    "        print(\"75 değeri\", i, \"indeksindedir.\")"
   ]
  },
  {
   "cell_type": "markdown",
   "id": "9fca97a2-cc1f-42d4-b38b-6d5628ad60bc",
   "metadata": {},
   "source": [
    "-Girilen sayının faktöriyelini bulan döngü (for)"
   ]
  },
  {
   "cell_type": "code",
   "execution_count": 37,
   "id": "116a4eaf-8d99-46cd-8f76-f4da71a8a296",
   "metadata": {},
   "outputs": [
    {
     "name": "stdin",
     "output_type": "stream",
     "text": [
      "Bir sayı giriniz: 4\n"
     ]
    },
    {
     "name": "stdout",
     "output_type": "stream",
     "text": [
      "24\n"
     ]
    }
   ],
   "source": [
    "sayi = int(input(\"Bir sayı giriniz:\"))\n",
    "\n",
    "faktoriyel = 1\n",
    "for i in range(sayi):\n",
    "    faktoriyel *= (i+1)\n",
    "print(faktoriyel)"
   ]
  },
  {
   "cell_type": "markdown",
   "id": "0ba49511-4e0c-4b5e-a286-3c47fe421a40",
   "metadata": {},
   "source": [
    "-Girilen sayının faktöriyelini bulan döngü (while)"
   ]
  },
  {
   "cell_type": "code",
   "execution_count": 26,
   "id": "2e6210b4-98b6-4684-8996-ee95e981796b",
   "metadata": {},
   "outputs": [
    {
     "name": "stdin",
     "output_type": "stream",
     "text": [
      "Bir sayı giriniz: 6\n"
     ]
    },
    {
     "name": "stdout",
     "output_type": "stream",
     "text": [
      "720\n"
     ]
    }
   ],
   "source": [
    "sayi = int(input(\"Bir sayı giriniz:\"))\n",
    "\n",
    "faktoriyel = 1\n",
    "i = 1\n",
    "while i < sayi:\n",
    "    faktoriyel *= (i+1)\n",
    "    i+=1\n",
    "print(faktoriyel)"
   ]
  },
  {
   "cell_type": "markdown",
   "id": "ba6b106a-c388-4afe-a7f6-8f40b18e06b7",
   "metadata": {},
   "source": [
    "-Kullanıcıdan pozitif bir sayı bekleyen, pozitifi gördüğü an bastıran, negatif sayı girildikçe bir daha soran döngü (for)"
   ]
  },
  {
   "cell_type": "code",
   "execution_count": 2,
   "id": "f7c9bf46-1bf9-467e-affa-80249658ae51",
   "metadata": {},
   "outputs": [
    {
     "name": "stdin",
     "output_type": "stream",
     "text": [
      "Bir sayı giriniz: -2\n"
     ]
    }
   ],
   "source": [
    "sayi = int(input(\"Bir sayı giriniz:\"))\n",
    "\n",
    "for i in sayi:\n",
    "    if i < 0:\n",
    "        sayi= int(input(\"Bir sayı giriniz:\"))\n",
    "    else: \n",
    "        print(i)"
   ]
  },
  {
   "cell_type": "markdown",
   "id": "42f46758-654b-4e7a-b932-1387c0bef6c6",
   "metadata": {},
   "source": [
    "-Fonksiyon ile girilen sayının asal olup olmadığını bulan kod (for döngüsü ile)"
   ]
  },
  {
   "cell_type": "code",
   "execution_count": 14,
   "id": "93e33429-7259-4b9f-8d09-5ff29253acae",
   "metadata": {},
   "outputs": [
    {
     "name": "stdout",
     "output_type": "stream",
     "text": [
      "Asal sayı değildir.\n"
     ]
    }
   ],
   "source": [
    "def asalMi(sayi):\n",
    "    if sayi <= 1:\n",
    "        print(\"Asal sayı değildir.\")\n",
    "    else:\n",
    "        asal = True\n",
    "        for i in range(2, sayi):\n",
    "            if sayi % i == 0:\n",
    "                asal = False\n",
    "                break\n",
    "    if asal:\n",
    "        print(\"Asal sayıdır.\")\n",
    "    else:\n",
    "        print(\"Asal sayı değildir.\")\n",
    "\n",
    "asalMi(14)"
   ]
  },
  {
   "cell_type": "markdown",
   "id": "b269be86-e130-411a-928d-d0694b27883b",
   "metadata": {},
   "source": [
    "-Fonksiyon ile girilen sayının asal olup olmadığını bulan kod (while döngüsü ile)"
   ]
  },
  {
   "cell_type": "code",
   "execution_count": 33,
   "id": "c6952f46-325f-42bc-898e-498819310937",
   "metadata": {},
   "outputs": [
    {
     "name": "stdout",
     "output_type": "stream",
     "text": [
      "Asal sayıdır.\n"
     ]
    }
   ],
   "source": [
    "def asalMi(sayi):\n",
    "    if sayi <= 1:\n",
    "        print(\"Asal sayı değildir.\")\n",
    "    else:\n",
    "        i = 2\n",
    "        asal = True\n",
    "    \n",
    "        while i < sayi:\n",
    "            if sayi % i == 0:\n",
    "                asal = False\n",
    "                break\n",
    "            i += 1\n",
    "        if asal:\n",
    "            print(\"Asal sayıdır.\")\n",
    "        else:\n",
    "            print(\"Asal sayı değildir.\")\n",
    "\n",
    "asalMi(13)"
   ]
  },
  {
   "cell_type": "markdown",
   "id": "baafdd19-f919-4d64-9ae1-b6041b8e2a8e",
   "metadata": {},
   "source": [
    "-Fonksiyon ile girilen sayının faktöriyelini bulan kod (for döngüsü ile)"
   ]
  },
  {
   "cell_type": "code",
   "execution_count": 28,
   "id": "9f501da5-aaef-4d77-8092-fbeb7b04dad8",
   "metadata": {},
   "outputs": [
    {
     "data": {
      "text/plain": [
       "24"
      ]
     },
     "execution_count": 28,
     "metadata": {},
     "output_type": "execute_result"
    }
   ],
   "source": [
    "def faktoriyelBul(sayi):\n",
    "    faktoriyel = 1\n",
    "    for i in range(sayi):\n",
    "        faktoriyel *= (i+1)\n",
    "    return faktoriyel\n",
    "    \n",
    "faktoriyelBul(4)"
   ]
  },
  {
   "cell_type": "code",
   "execution_count": null,
   "id": "1dc19c51-ca7f-4893-9f67-5ec2c812bfc8",
   "metadata": {},
   "outputs": [],
   "source": [
    "-Fonksiyon ile girilen sayının faktöriyelini bulan kod (while döngüsü ile)"
   ]
  },
  {
   "cell_type": "code",
   "execution_count": 36,
   "id": "bb463951-cac5-49fe-acd1-c3c9e2b64506",
   "metadata": {},
   "outputs": [
    {
     "data": {
      "text/plain": [
       "120"
      ]
     },
     "execution_count": 36,
     "metadata": {},
     "output_type": "execute_result"
    }
   ],
   "source": [
    "def faktoriyelBul(sayi):\n",
    "    faktoriyel = 1\n",
    "    i = 1\n",
    "    while i < sayi:\n",
    "        faktoriyel *= (i+1)\n",
    "        i +=1\n",
    "    return faktoriyel\n",
    "\n",
    "faktoriyelBul(5)"
   ]
  }
 ],
 "metadata": {
  "kernelspec": {
   "display_name": "Python 3 (ipykernel)",
   "language": "python",
   "name": "python3"
  },
  "language_info": {
   "codemirror_mode": {
    "name": "ipython",
    "version": 3
   },
   "file_extension": ".py",
   "mimetype": "text/x-python",
   "name": "python",
   "nbconvert_exporter": "python",
   "pygments_lexer": "ipython3",
   "version": "3.9.0"
  }
 },
 "nbformat": 4,
 "nbformat_minor": 5
}
